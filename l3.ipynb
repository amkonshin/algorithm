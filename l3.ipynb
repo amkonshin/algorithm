{
 "cells": [
  {
   "cell_type": "code",
   "execution_count": 1,
   "metadata": {
    "colab": {},
    "colab_type": "code",
    "id": "zhwkeWtb1O0w"
   },
   "outputs": [],
   "source": [
    "import numpy as np\n",
    "import matplotlib.pyplot as plt"
   ]
  },
  {
   "cell_type": "code",
   "execution_count": 2,
   "metadata": {
    "colab": {},
    "colab_type": "code",
    "id": "FeKFn2yb1To4"
   },
   "outputs": [],
   "source": [
    "X = np.array([[1, 1, 1, 1, 1, 1, 1, 1, 1, 1],\n",
    "              [1, 1, 2, 1, 3, 0, 5, 10, 1, 2],\n",
    "              [500, 700, 750, 600, 1450,\n",
    "               800, 1500, 2000, 450, 1000],\n",
    "              [1, 1, 2, 1, 2, \n",
    "               1, 3, 3, 1, 2]], dtype = np.float64)\n",
    "y = np.array([0, 0, 1, 0, 1, 0, 1, 0, 1, 1], dtype = np.float64)"
   ]
  },
  {
   "cell_type": "code",
   "execution_count": 3,
   "metadata": {
    "colab": {
     "base_uri": "https://localhost:8080/",
     "height": 155
    },
    "colab_type": "code",
    "id": "yXSj4nbxHsFd",
    "outputId": "8d102d54-94bf-4acc-d5b8-d60da152b953"
   },
   "outputs": [
    {
     "data": {
      "text/plain": [
       "array([[1.00e+00, 1.00e+00, 1.00e+00, 1.00e+00, 1.00e+00, 1.00e+00,\n",
       "        1.00e+00, 1.00e+00, 1.00e+00, 1.00e+00],\n",
       "       [1.00e+00, 1.00e+00, 2.00e+00, 1.00e+00, 3.00e+00, 0.00e+00,\n",
       "        5.00e+00, 1.00e+01, 1.00e+00, 2.00e+00],\n",
       "       [5.00e+02, 7.00e+02, 7.50e+02, 6.00e+02, 1.45e+03, 8.00e+02,\n",
       "        1.50e+03, 2.00e+03, 4.50e+02, 1.00e+03],\n",
       "       [1.00e+00, 1.00e+00, 2.00e+00, 1.00e+00, 2.00e+00, 1.00e+00,\n",
       "        3.00e+00, 3.00e+00, 1.00e+00, 2.00e+00]])"
      ]
     },
     "execution_count": 3,
     "metadata": {},
     "output_type": "execute_result"
    }
   ],
   "source": [
    "X"
   ]
  },
  {
   "cell_type": "code",
   "execution_count": 4,
   "metadata": {
    "colab": {
     "base_uri": "https://localhost:8080/",
     "height": 34
    },
    "colab_type": "code",
    "id": "QU0A16vZHugZ",
    "outputId": "71d74b95-77f4-41a7-e339-c9e7b2004e4b"
   },
   "outputs": [
    {
     "data": {
      "text/plain": [
       "array([0., 0., 1., 0., 1., 0., 1., 0., 1., 1.])"
      ]
     },
     "execution_count": 4,
     "metadata": {},
     "output_type": "execute_result"
    }
   ],
   "source": [
    "y"
   ]
  },
  {
   "cell_type": "code",
   "execution_count": 5,
   "metadata": {
    "colab": {},
    "colab_type": "code",
    "id": "M-aO1NTxOUfo"
   },
   "outputs": [],
   "source": [
    "def calc_std_feat(x):\n",
    "  res = (x - x.mean()) / x.std()\n",
    "  return res"
   ]
  },
  {
   "cell_type": "code",
   "execution_count": 6,
   "metadata": {
    "colab": {},
    "colab_type": "code",
    "id": "D8EL0iGJOVpe"
   },
   "outputs": [],
   "source": [
    "X_st = X.copy()\n",
    "X_st[2, :] = calc_std_feat(X[2, :])"
   ]
  },
  {
   "cell_type": "code",
   "execution_count": 7,
   "metadata": {
    "colab": {
     "base_uri": "https://localhost:8080/",
     "height": 155
    },
    "colab_type": "code",
    "id": "gviMxz7EOuI3",
    "outputId": "af9a2576-f4d7-41d7-e216-46e0a068cfad"
   },
   "outputs": [
    {
     "data": {
      "text/plain": [
       "array([[ 1.        ,  1.        ,  1.        ,  1.        ,  1.        ,\n",
       "         1.        ,  1.        ,  1.        ,  1.        ,  1.        ],\n",
       "       [ 1.        ,  1.        ,  2.        ,  1.        ,  3.        ,\n",
       "         0.        ,  5.        , 10.        ,  1.        ,  2.        ],\n",
       "       [-0.97958969, -0.56713087, -0.46401617, -0.77336028,  0.97958969,\n",
       "        -0.36090146,  1.08270439,  2.11385144, -1.08270439,  0.05155735],\n",
       "       [ 1.        ,  1.        ,  2.        ,  1.        ,  2.        ,\n",
       "         1.        ,  3.        ,  3.        ,  1.        ,  2.        ]])"
      ]
     },
     "execution_count": 7,
     "metadata": {},
     "output_type": "execute_result"
    }
   ],
   "source": [
    "X_st"
   ]
  },
  {
   "cell_type": "code",
   "execution_count": 8,
   "metadata": {
    "colab": {},
    "colab_type": "code",
    "id": "qMR5pOA38dDw"
   },
   "outputs": [],
   "source": [
    "def calc_logloss(y, y_pred):\n",
    "  err = - np.mean(y * np.log(y_pred) + (1.0 - y) * np.log(1.0 - y_pred))\n",
    "  return err"
   ]
  },
  {
   "cell_type": "code",
   "execution_count": 9,
   "metadata": {},
   "outputs": [
    {
     "data": {
      "text/plain": [
       "-0.10536051565782628"
      ]
     },
     "execution_count": 9,
     "metadata": {},
     "output_type": "execute_result"
    }
   ],
   "source": [
    "np.log(0.9)"
   ]
  },
  {
   "cell_type": "code",
   "execution_count": 10,
   "metadata": {
    "colab": {
     "base_uri": "https://localhost:8080/",
     "height": 34
    },
    "colab_type": "code",
    "id": "R6zfOHMrBvnX",
    "outputId": "c26e639b-b7a5-414c-a920-928da0513938"
   },
   "outputs": [
    {
     "data": {
      "text/plain": [
       "0.10536051565782628"
      ]
     },
     "execution_count": 10,
     "metadata": {},
     "output_type": "execute_result"
    }
   ],
   "source": [
    "# Пример применения\n",
    "y1 = np.array([1, 0])\n",
    "y_pred1 = np.array([0.9, 0.1])\n",
    "calc_logloss(y1, y_pred1)"
   ]
  },
  {
   "cell_type": "code",
   "execution_count": 11,
   "metadata": {
    "colab": {},
    "colab_type": "code",
    "id": "EEF9rWPNDnss"
   },
   "outputs": [],
   "source": [
    "def sigmoid(z):\n",
    "  res = 1 / (1 + np.exp(-z))\n",
    "  return res"
   ]
  },
  {
   "cell_type": "code",
   "execution_count": 12,
   "metadata": {
    "colab": {
     "base_uri": "https://localhost:8080/",
     "height": 224
    },
    "colab_type": "code",
    "id": "_9tN8lBEEeXU",
    "outputId": "6453ffee-0282-4363-b690-702fb4b0a70e"
   },
   "outputs": [
    {
     "data": {
      "text/plain": [
       "array([-10. ,  -9.8,  -9.6,  -9.4,  -9.2,  -9. ,  -8.8,  -8.6,  -8.4,\n",
       "        -8.2,  -8. ,  -7.8,  -7.6,  -7.4,  -7.2,  -7. ,  -6.8,  -6.6,\n",
       "        -6.4,  -6.2,  -6. ,  -5.8,  -5.6,  -5.4,  -5.2,  -5. ,  -4.8,\n",
       "        -4.6,  -4.4,  -4.2,  -4. ,  -3.8,  -3.6,  -3.4,  -3.2,  -3. ,\n",
       "        -2.8,  -2.6,  -2.4,  -2.2,  -2. ,  -1.8,  -1.6,  -1.4,  -1.2,\n",
       "        -1. ,  -0.8,  -0.6,  -0.4,  -0.2,   0. ,   0.2,   0.4,   0.6,\n",
       "         0.8,   1. ,   1.2,   1.4,   1.6,   1.8,   2. ,   2.2,   2.4,\n",
       "         2.6,   2.8,   3. ,   3.2,   3.4,   3.6,   3.8,   4. ,   4.2,\n",
       "         4.4,   4.6,   4.8,   5. ,   5.2,   5.4,   5.6,   5.8,   6. ,\n",
       "         6.2,   6.4,   6.6,   6.8,   7. ,   7.2,   7.4,   7.6,   7.8,\n",
       "         8. ,   8.2,   8.4,   8.6,   8.8,   9. ,   9.2,   9.4,   9.6,\n",
       "         9.8,  10. ])"
      ]
     },
     "execution_count": 12,
     "metadata": {},
     "output_type": "execute_result"
    }
   ],
   "source": [
    "z = np.linspace(-10, 10, 101)\n",
    "z"
   ]
  },
  {
   "cell_type": "code",
   "execution_count": 13,
   "metadata": {
    "colab": {},
    "colab_type": "code",
    "id": "nvIe3RpbEp4l"
   },
   "outputs": [],
   "source": [
    "probabilities = sigmoid(z)"
   ]
  },
  {
   "cell_type": "code",
   "execution_count": 14,
   "metadata": {
    "colab": {
     "base_uri": "https://localhost:8080/",
     "height": 283
    },
    "colab_type": "code",
    "id": "jQsCfht0Et1V",
    "outputId": "687fdef8-c8f3-4c59-baa4-5e3fab7f67c1"
   },
   "outputs": [
    {
     "data": {
      "text/plain": [
       "[<matplotlib.lines.Line2D at 0x32ccbd0>]"
      ]
     },
     "execution_count": 14,
     "metadata": {},
     "output_type": "execute_result"
    },
    {
     "data": {
      "image/png": "[encoded data removed]",
      "text/plain": [
       "<Figure size 432x288 with 1 Axes>"
      ]
     },
     "metadata": {
      "needs_background": "light"
     },
     "output_type": "display_data"
    }
   ],
   "source": [
    "plt.plot(z, probabilities)"
   ]
  },
  {
   "cell_type": "code",
   "execution_count": 15,
   "metadata": {
    "colab": {},
    "colab_type": "code",
    "id": "e6TH-mkPItb6"
   },
   "outputs": [],
   "source": [
    "### Logistic Regression"
   ]
  },
  {
   "cell_type": "code",
   "execution_count": 57,
   "metadata": {
    "colab": {},
    "colab_type": "code",
    "id": "qtgUN3LW-UIq"
   },
   "outputs": [],
   "source": [
    "def eval_model(X, y, iterations, alpha=1e-4):\n",
    "  np.random.seed(42)\n",
    "  W = np.random.randn(X.shape[0])\n",
    "  n = X.shape[1]\n",
    "  for i in range(1, iterations+1):\n",
    "    z = np.dot(W, X)\n",
    "    y_pred = sigmoid(z)\n",
    "    err = calc_logloss(y, y_pred)\n",
    "    W -= alpha * (1/n * np.dot((y_pred - y), X.T))\n",
    "    if i % 2000 == 0:\n",
    "      print(i, W, err)\n",
    "  return W"
   ]
  },
  {
   "cell_type": "code",
   "execution_count": 17,
   "metadata": {},
   "outputs": [
    {
     "data": {
      "text/plain": [
       "array([ -813.27006492, -1138.84386559, -1219.51054574,  -976.05696526,\n",
       "       -2360.52728579, -1300.12232819, -2442.70240366, -3264.17909397,\n",
       "        -731.87661476, -1626.47779657])"
      ]
     },
     "execution_count": 17,
     "metadata": {},
     "output_type": "execute_result"
    }
   ],
   "source": [
    "W = np.random.randn(X.shape[0])\n",
    "z = np.dot(W, X)\n",
    "z"
   ]
  },
  {
   "cell_type": "code",
   "execution_count": 18,
   "metadata": {},
   "outputs": [
    {
     "data": {
      "text/plain": [
       "array([[1.00e+00, 1.00e+00, 5.00e+02, 1.00e+00],\n",
       "       [1.00e+00, 1.00e+00, 7.00e+02, 1.00e+00],\n",
       "       [1.00e+00, 2.00e+00, 7.50e+02, 2.00e+00],\n",
       "       [1.00e+00, 1.00e+00, 6.00e+02, 1.00e+00],\n",
       "       [1.00e+00, 3.00e+00, 1.45e+03, 2.00e+00],\n",
       "       [1.00e+00, 0.00e+00, 8.00e+02, 1.00e+00],\n",
       "       [1.00e+00, 5.00e+00, 1.50e+03, 3.00e+00],\n",
       "       [1.00e+00, 1.00e+01, 2.00e+03, 3.00e+00],\n",
       "       [1.00e+00, 1.00e+00, 4.50e+02, 1.00e+00],\n",
       "       [1.00e+00, 2.00e+00, 1.00e+03, 2.00e+00]])"
      ]
     },
     "execution_count": 18,
     "metadata": {},
     "output_type": "execute_result"
    }
   ],
   "source": [
    "X.T"
   ]
  },
  {
   "cell_type": "code",
   "execution_count": 19,
   "metadata": {},
   "outputs": [
    {
     "data": {
      "text/plain": [
       "array([   2. ,    5.2, 1675. ,    1.9])"
      ]
     },
     "execution_count": 19,
     "metadata": {},
     "output_type": "execute_result"
    }
   ],
   "source": [
    "np.dot((0.7 - y), X.T)"
   ]
  },
  {
   "cell_type": "code",
   "execution_count": 20,
   "metadata": {},
   "outputs": [
    {
     "data": {
      "text/plain": [
       "array([[1.00e+00, 1.00e+00, 1.00e+00, 1.00e+00, 1.00e+00, 1.00e+00,\n",
       "        1.00e+00, 1.00e+00, 1.00e+00, 1.00e+00],\n",
       "       [1.00e+00, 1.00e+00, 2.00e+00, 1.00e+00, 3.00e+00, 0.00e+00,\n",
       "        5.00e+00, 1.00e+01, 1.00e+00, 2.00e+00],\n",
       "       [5.00e+02, 7.00e+02, 7.50e+02, 6.00e+02, 1.45e+03, 8.00e+02,\n",
       "        1.50e+03, 2.00e+03, 4.50e+02, 1.00e+03],\n",
       "       [1.00e+00, 1.00e+00, 2.00e+00, 1.00e+00, 2.00e+00, 1.00e+00,\n",
       "        3.00e+00, 3.00e+00, 1.00e+00, 2.00e+00]])"
      ]
     },
     "execution_count": 20,
     "metadata": {},
     "output_type": "execute_result"
    }
   ],
   "source": [
    "X"
   ]
  },
  {
   "cell_type": "code",
   "execution_count": 21,
   "metadata": {
    "colab": {
     "base_uri": "https://localhost:8080/",
     "height": 190
    },
    "colab_type": "code",
    "id": "oqX7loklBmYZ",
    "outputId": "f4849295-1f14-40d8-c8f2-d1b002e130c5"
   },
   "outputs": [
    {
     "name": "stdout",
     "output_type": "stream",
     "text": [
      "100 [ 0.49282748 -0.15007528  0.64748973  1.51727915] 1.2014814214705334\n",
      "200 [ 0.48896219 -0.16184918  0.64728128  1.51155738] 1.1828456288538924\n",
      "300 [ 0.48511874 -0.17358386  0.64706349  1.50586552] 1.1643525542846553\n",
      "400 [ 0.4812976  -0.18527698  0.64683669  1.50020462] 1.1460086359433084\n",
      "500 [ 0.47749927 -0.19692597  0.64660127  1.4945758 ] 1.127820879406358\n",
      "600 [ 0.47372426 -0.20852799  0.6463577   1.48898028] 1.109796908143704\n",
      "700 [ 0.46997312 -0.22007992  0.6461065   1.48341934] 1.0919450148769096\n",
      "800 [ 0.46624642 -0.23157833  0.64584825  1.47789438] 1.074274212586137\n",
      "900 [ 0.46254476 -0.24301946  0.64558365  1.4724069 ] 1.0567942835649755\n",
      "1000 [ 0.45886878 -0.25439917  0.64531344  1.46695851] 1.0395158244739489\n"
     ]
    }
   ],
   "source": [
    "W = eval_model(X_st, y, iterations=1000, alpha=1e-4)"
   ]
  },
  {
   "cell_type": "markdown",
   "metadata": {
    "colab": {},
    "colab_type": "code",
    "id": "Mbwxo9NqbLJy"
   },
   "source": [
    "2. Подберите аргументы функции eval_model для логистической регрессии таким образом, чтобы log loss был минимальным.\n",
    "3. Создайте функцию calc_pred_proba, возвращающую предсказанную вероятность класса 1 (на вход подаются W, который уже посчитан функцией eval_model и X, на выходе - массив y_pred_proba).\n",
    "4. Создайте функцию calc_pred, возвращающую предсказанный класс (на вход подаются W, который уже посчитан функцией eval_model и X, на выходе - массив y_pred).\n",
    "5. Посчитайте Accuracy, матрицу ошибок, точность и полноту, а также F1 score.\n",
    "6. Могла ли модель переобучиться? Почему?\n",
    "7*. Создайте функции eval_model_l1 и eval_model_l2 с применением L1 и L2 регуляризаций соответственно."
   ]
  },
  {
   "cell_type": "code",
   "execution_count": 31,
   "metadata": {},
   "outputs": [],
   "source": [
    "def log_loss_minimized(func,X_st,y):\n",
    "    alpha=[1e-2,1e-3,1e-4,1e-5]\n",
    "    for alpha_ in alpha:\n",
    "        print(f'Скорость обучения:{alpha_}')\n",
    "        func(X_st, y, iterations=20000, alpha=alpha_)"
   ]
  },
  {
   "cell_type": "code",
   "execution_count": 32,
   "metadata": {},
   "outputs": [
    {
     "name": "stdout",
     "output_type": "stream",
     "text": [
      "Скорость обучения:0.01\n",
      "200 [ 0.14805533 -0.69317972  0.77965488  1.21287192] 0.5687278067099053\n",
      "400 [-0.00887935 -0.68415387  0.90713736  1.22443854] 0.5476800278385013\n",
      "600 [-0.1239972  -0.69202069  0.98318257  1.26924759] 0.5369841864977791\n",
      "800 [-0.21681092 -0.7078635   1.03062761  1.32973537] 0.5295551503580799\n",
      "1000 [-0.29764618 -0.72670545  1.061634    1.39666497] 0.5233765331724747\n",
      "1200 [-0.37188064 -0.7461597   1.08260067  1.46531853] 0.517849884671324\n",
      "1400 [-0.44230332 -0.76510554  1.09696619  1.53338645] 0.5127677838840146\n",
      "1600 [-0.51036921 -0.783047    1.10664485  1.59979796] 0.5080360394424425\n",
      "1800 [-0.57684595 -0.79979671  1.11275552  1.66410902] 0.503597783659264\n",
      "2000 [-0.64214517 -0.81531815  1.11599369  1.72618787] 0.4994117173889703\n",
      "2200 [-0.70649271 -0.82964642  1.11682329  1.78605451] 0.495445152376875\n",
      "2400 [-0.77001652 -0.8428484   1.11557702  1.84379918] 0.4916712819232016\n",
      "2600 [-0.83279239 -0.85500278  1.11250957  1.89954117] 0.4880677793843522\n",
      "2800 [-0.89486786 -0.8661902   1.10782654  1.95340826] 0.4846158947679876\n",
      "3000 [-0.95627497 -0.87648865  1.10170056  2.00552673] 0.4812997915130281\n",
      "3200 [-1.01703694 -0.88597138  1.09428063  2.05601673] 0.4781060297284002\n",
      "3400 [-1.07717191 -0.8947062   1.08569776  2.1049905 ] 0.4750231529506241\n",
      "3600 [-1.13669488 -0.90275542  1.07606852  2.15255177] 0.47204135353832494\n",
      "3800 [-1.19561887 -0.91017606  1.06549755  2.19879604] 0.4691521997674375\n",
      "4000 [-1.25395556 -0.91702026  1.05407927  2.24381099] 0.4663484120925518\n",
      "4200 [-1.31171563 -0.92333565  1.04189923  2.28767711] 0.4636236789300058\n",
      "4400 [-1.36890907 -0.92916577  1.02903515  2.33046827] 0.46097250440285376\n",
      "4600 [-1.42554525 -0.93455043  1.0155578   2.37225232] 0.45839008206075427\n",
      "4800 [-1.48163308 -0.9395261   1.00153174  2.41309168] 0.45587218980085237\n",
      "5000 [-1.53718107 -0.94412619  0.98701591  2.45304376] 0.4534151021622755\n",
      "5200 [-1.59219737 -0.94838133  0.97206423  2.4921615 ] 0.4510155169111469\n",
      "5400 [-1.64668984 -0.95231966  0.95672601  2.53049371] 0.4486704934216735\n",
      "5600 [-1.70066606 -0.955967    0.94104644  2.56808547] 0.44637740082679167\n",
      "5800 [-1.75413338 -0.95934713  0.9250669   2.60497845] 0.4441338742855372\n",
      "6000 [-1.80709894 -0.96248191  0.90882535  2.64121123] 0.4419377780140083\n",
      "6200 [-1.85956969 -0.96539146  0.89235658  2.67681951] 0.43978717396818495\n",
      "6400 [-1.91155241 -0.96809434  0.87569252  2.71183641] 0.4376802952620581\n",
      "6600 [-1.96305372 -0.97060763  0.85886247  2.74629266] 0.4356155235629718\n",
      "6800 [-2.01408009 -0.97294709  0.8418933   2.78021679] 0.43359136983518276\n",
      "7000 [-2.0646379  -0.97512726  0.82480965  2.81363531] 0.4316064579082126\n",
      "7200 [-2.11473336 -0.97716157  0.80763414  2.8465729 ] 0.429659510433187\n",
      "7400 [-2.1643726  -0.97906239  0.79038751  2.87905253] 0.4277493368616792\n",
      "7600 [-2.21356166 -0.98084115  0.77308875  2.91109557] 0.4258748231404759\n",
      "7800 [-2.26230646 -0.98250841  0.7557553   2.94272198] 0.42403492286448785\n",
      "8000 [-2.31061284 -0.98407392  0.73840308  2.97395036] 0.422228649670574\n",
      "8200 [-2.35848657 -0.98554668  0.72104669  3.00479807] 0.4204550706888478\n",
      "8400 [-2.40593332 -0.98693499  0.70369946  3.03528135] 0.41871330089626085\n",
      "8600 [-2.45295871 -0.98824653  0.68637357  3.06541535] 0.4170024982409176\n",
      "8800 [-2.49956826 -0.98948839  0.66908013  3.09521426] 0.41532185942543354\n",
      "9000 [-2.54576745 -0.99066711  0.65182927  3.12469136] 0.41367061625436863\n",
      "9200 [-2.59156167 -0.99178873  0.63463019  3.15385909] 0.4120480324648705\n",
      "9400 [-2.63695627 -0.99285881  0.61749127  3.1827291 ] 0.41045340097158034\n",
      "9600 [-2.68195651 -0.9938825   0.60042007  3.21131234] 0.40888604146695107\n",
      "9800 [-2.72656762 -0.99486453  0.58342347  3.23961906] 0.4073452983266919\n",
      "10000 [-2.77079473 -0.99580928  0.56650766  3.2676589 ] 0.405830538777331\n",
      "10200 [-2.81464296 -0.99672076  0.54967821  3.29544093] 0.40434115128908515\n",
      "10400 [-2.85811733 -0.99760269  0.53294012  3.32297365] 0.40287654416250296\n",
      "10600 [-2.90122283 -0.99845848  0.51629787  3.35026509] 0.40143614428185737\n",
      "10800 [-2.94396438 -0.99929126  0.49975544  3.37732281] 0.400019396012112\n",
      "11000 [-2.98634684 -1.00010392  0.48331637  3.40415391] 0.3986257602195797\n",
      "11200 [-3.02837502 -1.00089911  0.46698376  3.43076511] 0.39725471339921087\n",
      "11400 [-3.07005369 -1.00167926  0.45076036  3.45716276] 0.3959057468938688\n",
      "11600 [-3.11138754 -1.00244661  0.43464854  3.48335284] 0.3945783661930144\n",
      "11800 [-3.15238121 -1.00320319  0.41865034  3.50934101] 0.39327209030000626\n",
      "12000 [-3.1930393  -1.00395089  0.4027675   3.53513264] 0.391986451158745\n",
      "12200 [-3.23336635 -1.00469141  0.3870015   3.56073278] 0.3907209931317025\n",
      "12400 [-3.27336683 -1.00542631  0.37135354  3.58614626] 0.38947527252249936\n",
      "12600 [-3.31304517 -1.00615702  0.35582459  3.61137764] 0.3882488571371667\n",
      "12800 [-3.35240574 -1.00688484  0.3404154   3.63643125] 0.3870413258790525\n",
      "13000 [-3.39145286 -1.00761094  0.32512654  3.6613112 ] 0.3858522683730528\n",
      "13200 [-3.43019079 -1.0083364   0.30995836  3.68602141] 0.3846812846154595\n",
      "13400 [-3.46862375 -1.00906219  0.29491107  3.71056561] 0.38352798464624327\n",
      "13600 [-3.50675588 -1.00978918  0.27998473  3.73494736] 0.38239198824104303\n",
      "13800 [-3.5445913  -1.01051817  0.26517923  3.75917004] 0.38127292462052476\n",
      "14000 [-3.58213405 -1.01124986  0.25049437  3.78323688] 0.38017043217510194\n",
      "14200 [-3.61938813 -1.01198489  0.23592979  3.80715098] 0.37908415820330227\n",
      "14400 [-3.65635748 -1.01272385  0.22148507  3.8309153 ] 0.3780137586623048\n",
      "14600 [-3.69304598 -1.01346722  0.20715965  3.85453267] 0.3769588979293861\n",
      "14800 [-3.72945748 -1.01421547  0.1929529   3.8780058 ] 0.37591924857319314\n",
      "15000 [-3.76559577 -1.01496898  0.17886413  3.90133729] 0.3748944911339158\n",
      "15200 [-3.80146456 -1.01572812  0.16489254  3.92452965] 0.3738843139115612\n",
      "15400 [-3.83706755 -1.01649318  0.15103731  3.94758528] 0.3728884127616475\n",
      "15600 [-3.87240837 -1.01726443  0.13729751  3.97050648] 0.3719064908977309\n",
      "15800 [-3.90749059 -1.01804208  0.1236722   3.99329549] 0.3709382587002578\n",
      "16000 [-3.94231774 -1.01882634  0.11016039  4.01595445] 0.3699834335313109\n",
      "16200 [-3.9768933  -1.01961735  0.09676102  4.03848542] 0.36904173955486774\n",
      "16400 [-4.0112207  -1.02041525  0.08347303  4.06089041] 0.36811290756225074\n",
      "16600 [-4.04530331 -1.02122014  0.07029531  4.08317135] 0.36719667480248364\n",
      "16800 [-4.07914447 -1.02203209  0.05722672  4.10533009] 0.36629278481730687\n",
      "17000 [-4.11274745 -1.02285117  0.04426611  4.12736846] 0.3654009872806375\n",
      "17200 [-4.14611549 -1.02367741  0.0314123   4.14928821] 0.36452103784228124\n",
      "17400 [-4.17925178 -1.02451082  0.0186641   4.17109102] 0.36365269797573113\n",
      "17600 [-4.21215944 -1.02535141  0.00602031  4.19277855] 0.36279573482989963\n",
      "17800 [-4.24484158 -1.02619916 -0.00652031  4.2143524 ] 0.3619499210846504\n",
      "18000 [-4.27730123 -1.02705405 -0.01895896  4.23581413] 0.3611150348100095\n",
      "18200 [-4.30954139 -1.02791603 -0.03129688  4.25716524] 0.36029085932894234\n",
      "18400 [-4.34156503 -1.02878505 -0.0435353   4.27840722] 0.35947718308359794\n",
      "18600 [-4.37337504 -1.02966105 -0.05567546  4.29954149] 0.3586737995049229\n",
      "18800 [-4.40497429 -1.03054396 -0.0677186   4.32056945] 0.35788050688555934\n",
      "19000 [-4.43636561 -1.03143371 -0.07966595  4.34149248] 0.35709710825594415\n",
      "19200 [-4.46755177 -1.03233019 -0.09151874  4.36231189] 0.3563234112635302\n",
      "19400 [-4.49853551 -1.03323334 -0.1032782   4.38302899] 0.35555922805505613\n",
      "19600 [-4.52931952 -1.03414304 -0.11494554  4.40364505] 0.35480437516179486\n",
      "19800 [-4.55990645 -1.0350592  -0.12652199  4.42416131] 0.354058673387709\n",
      "20000 [-4.59029892 -1.03598171 -0.13800874  4.44457898] 0.35332194770044845\n",
      "Скорость обучения:0.001\n",
      "200 [ 0.42366472 -0.36366056  0.64254667  1.41503365] 0.8819616824356442\n",
      "400 [ 0.36451116 -0.53324936  0.64182901  1.3332885 ] 0.6828881509068779\n",
      "600 [ 0.32083524 -0.62105749  0.65259781  1.28534741] 0.6201376264698928\n",
      "800 [ 0.28674785 -0.66226082  0.66947011  1.25790601] 0.6000844770958681\n",
      "1000 [ 0.25805314 -0.68199349  0.68835345  1.24114037] 0.5906912249945011\n",
      "1200 [ 0.23267617 -0.69108524  0.70762988  1.23038274] 0.5845794006179373\n",
      "1400 [ 0.20951629 -0.69464511  0.72661261  1.22324582] 0.5797631600594353\n",
      "1600 [ 0.1879499  -0.6953201   0.74498575  1.21841972] 0.575624870144612\n",
      "1800 [ 0.16760842 -0.69454882  0.76260441  1.21515784] 0.5719443728649001\n",
      "2000 [ 0.14826604 -0.69312636  0.77941081  1.21302468] 0.5686262548132578\n",
      "2200 [ 0.1297785  -0.69149061  0.79539384  1.2117608 ] 0.5656167780113948\n",
      "2400 [ 0.11204861 -0.68987785  0.81056775  1.21120728] 0.5628776455640998\n",
      "2600 [ 0.09500651 -0.68841037  0.82496025  1.21126263] 0.5603775592900447\n",
      "2800 [ 0.07859839 -0.68714654  0.83860576  1.21185818] 0.5580894121950466\n",
      "3000 [ 0.06278003 -0.68610936  0.85154153  1.21294398] 0.5559892552843801\n",
      "3200 [ 0.04751324 -0.68530277  0.86380541  1.21448096] 0.5540558173055711\n",
      "3400 [ 0.03276376 -0.68472075  0.87543467  1.21643644] 0.5522701983879733\n",
      "3600 [ 0.01850019 -0.68435241  0.8864653   1.21878173] 0.5506156238019673\n",
      "3800 [ 0.0046933  -0.68418474  0.89693171  1.22149077] 0.549077225369049\n",
      "4000 [-0.00868429 -0.68420414  0.90686656  1.22453943] 0.5476418419000334\n",
      "4200 [-0.02165832 -0.68439712  0.91630073  1.22790508] 0.5462978364876998\n"
     ]
    },
    {
     "name": "stdout",
     "output_type": "stream",
     "text": [
      "4400 [-0.03425307 -0.68475074  0.92526334  1.23156643] 0.5450349299152675\n",
      "4600 [-0.0464914  -0.68525275  0.9337818   1.23550334] 0.5438440495616377\n",
      "4800 [-0.05839486 -0.68589164  0.94188188  1.2396968 ] 0.5427171930373043\n",
      "5000 [-0.06998375 -0.68665668  0.94958779  1.24412884] 0.5416473056405606\n",
      "5200 [-0.08127717 -0.68753785  0.95692225  1.24878249] 0.5406281706342996\n",
      "5400 [-0.09229309 -0.68852585  0.96390658  1.25364175] 0.5396543113067727\n",
      "5600 [-0.10304842 -0.68961201  0.97056077  1.25869155] 0.5387209037824571\n",
      "5800 [-0.11355901 -0.69078827  0.97690358  1.26391768] 0.5378236995795522\n",
      "6000 [-0.12383979 -0.69204716  0.98295258  1.26930679] 0.5369589569591279\n",
      "6200 [-0.13390473 -0.6933817   0.98872424  1.27484633] 0.5361233801705033\n",
      "6400 [-0.14376698 -0.69478544  0.994234    1.28052452] 0.5353140657629132\n",
      "6600 [-0.15343883 -0.69625237  0.99949635  1.2863303 ] 0.5345284552012466\n",
      "6800 [-0.16293185 -0.69777688  1.00452483  1.29225331] 0.5337642930910362\n",
      "7000 [-0.17225684 -0.69935379  1.00933215  1.29828381] 0.5330195903831713\n",
      "7200 [-0.18142396 -0.70097827  1.01393023  1.3044127 ] 0.532292591990865\n",
      "7400 [-0.19044271 -0.70264582  1.01833022  1.31063147] 0.5315817483095255\n",
      "7600 [-0.19932199 -0.70435227  1.02254259  1.31693213] 0.5308856901839782\n",
      "7800 [-0.20807016 -0.70609375  1.02657716  1.32330722] 0.5302032069168627\n",
      "8000 [-0.21669501 -0.70786663  1.0304431   1.32974977] 0.5295332269569839\n",
      "8200 [-0.22520386 -0.70966757  1.03414905  1.33625325] 0.528874800947097\n",
      "8400 [-0.23360358 -0.71149346  1.0377031   1.34281158] 0.5282270868472729\n",
      "8600 [-0.24190058 -0.71334139  1.04111282  1.34941907] 0.5275893368828621\n",
      "8800 [-0.25010086 -0.71520869  1.04438534  1.3560704 ] 0.5269608860954759\n",
      "9000 [-0.25821006 -0.71709284  1.04752732  1.36276063] 0.5263411423015845\n",
      "9200 [-0.26623344 -0.71899153  1.05054505  1.36948512] 0.5257295772866122\n",
      "9400 [-0.27417594 -0.72090261  1.05344439  1.37623958] 0.5251257190830521\n",
      "9600 [-0.28204217 -0.72282406  1.05623089  1.38301998] 0.524529145199396\n",
      "9800 [-0.28983646 -0.72475405  1.05890972  1.38982257] 0.5239394766828263\n",
      "10000 [-0.29756287 -0.72669083  1.06148576  1.39664388] 0.5233563729128639\n",
      "10200 [-0.30522518 -0.72863282  1.0639636   1.40348065] 0.5227795270357398\n",
      "10400 [-0.31282694 -0.73057853  1.06634755  1.41032987] 0.5222086619603081\n",
      "10600 [-0.3203715  -0.73252659  1.06864164  1.41718872] 0.5216435268460561\n",
      "10800 [-0.32786195 -0.73447572  1.07084971  1.42405459] 0.5210838940223259\n",
      "11000 [-0.33530122 -0.73642475  1.07297532  1.43092505] 0.5205295562853697\n",
      "11200 [-0.34269204 -0.73837259  1.07502186  1.43779783] 0.5199803245264628\n",
      "11400 [-0.35003698 -0.74031823  1.0769925   1.44467086] 0.5194360256500927\n",
      "11600 [-0.35733843 -0.74226073  1.07889025  1.45154217] 0.5188965007463107\n",
      "11800 [-0.36459864 -0.74419924  1.08071792  1.45840998] 0.5183616034857979\n",
      "12000 [-0.37181971 -0.74613296  1.08247816  1.46527259] 0.5178311987100909\n",
      "12200 [-0.37900362 -0.74806116  1.0841735   1.47212848] 0.5173051611928384\n",
      "12400 [-0.38615222 -0.74998316  1.0858063   1.47897619] 0.516783374550956\n",
      "12600 [-0.39326724 -0.75189834  1.08737879  1.48581441] 0.5162657302871676\n",
      "12800 [-0.40035031 -0.75380612  1.08889308  1.49264191] 0.5157521269477272\n",
      "13000 [-0.40740294 -0.75570599  1.09035117  1.49945755] 0.5152424693811236\n",
      "13200 [-0.41442658 -0.75759746  1.09175495  1.50626031] 0.5147366680853315\n",
      "13400 [-0.42142254 -0.75948009  1.09310619  1.5130492 ] 0.5142346386327259\n",
      "13600 [-0.42839211 -0.76135348  1.09440658  1.51982335] 0.5137363011631126\n",
      "13800 [-0.43533644 -0.76321725  1.09565771  1.52658194] 0.5132415799365259\n",
      "14000 [-0.44225664 -0.76507108  1.09686111  1.53332422] 0.5127504029384715\n",
      "14200 [-0.44915376 -0.76691465  1.09801821  1.54004952] 0.5122627015312007\n",
      "14400 [-0.45602875 -0.7687477   1.09913036  1.5467572 ] 0.5117784101453975\n",
      "14600 [-0.46288255 -0.77056997  1.10019885  1.55344669] 0.5112974660073574\n",
      "14800 [-0.46971599 -0.77238124  1.10122491  1.56011747] 0.5108198088973366\n",
      "15000 [-0.47652989 -0.77418131  1.1022097   1.56676906] 0.5103453809352965\n",
      "15200 [-0.483325   -0.77596999  1.10315433  1.57340104] 0.5098741263907222\n",
      "15400 [-0.49010203 -0.77774712  1.10405984  1.58001301] 0.5094059915136103\n",
      "15600 [-0.49686165 -0.77951257  1.10492724  1.58660463] 0.5089409243840777\n",
      "15800 [-0.50360447 -0.78126621  1.10575749  1.59317557] 0.5084788747783527\n",
      "16000 [-0.51033109 -0.78300792  1.10655148  1.59972556] 0.5080197940491913\n",
      "16200 [-0.51704206 -0.78473763  1.10731009  1.60625434] 0.5075636350189946\n",
      "16400 [-0.5237379  -0.78645524  1.10803414  1.61276169] 0.5071103518841202\n",
      "16600 [-0.53041909 -0.78816069  1.10872442  1.61924742] 0.5066599001290608\n",
      "16800 [-0.5370861  -0.78985393  1.10938169  1.62571136] 0.5062122364493274\n",
      "17000 [-0.54373935 -0.7915349   1.11000665  1.63215336] 0.5057673186820166\n",
      "17200 [-0.55037925 -0.79320359  1.11060002  1.63857329] 0.505325105743163\n",
      "17400 [-0.55700618 -0.79485997  1.11116243  1.64497105] 0.5048855575710907\n",
      "17600 [-0.5636205  -0.79650402  1.11169453  1.65134656] 0.5044486350750694\n",
      "17800 [-0.57022255 -0.79813573  1.11219693  1.65769975] 0.5040143000886701\n",
      "18000 [-0.57681265 -0.79975511  1.1126702   1.66403056] 0.5035825153272792\n",
      "18200 [-0.5833911  -0.80136216  1.11311491  1.67033895] 0.5031532443493072\n",
      "18400 [-0.58995817 -0.80295691  1.11353159  1.67662491] 0.5027264515206732\n",
      "18600 [-0.59651414 -0.80453936  1.11392075  1.68288843] 0.5023021019822019\n",
      "18800 [-0.60305925 -0.80610956  1.11428291  1.6891295 ] 0.501880161619615\n",
      "19000 [-0.60959375 -0.80766753  1.11461852  1.69534814] 0.5014605970358288\n",
      "19200 [-0.61611785 -0.80921331  1.11492807  1.70154437] 0.5010433755253153\n",
      "19400 [-0.62263177 -0.81074693  1.11521198  1.70771823] 0.5006284650503037\n",
      "19600 [-0.6291357  -0.81226846  1.1154707   1.71386976] 0.5002158342186277\n",
      "19800 [-0.63562983 -0.81377792  1.11570463  1.719999  ] 0.4998054522630526\n",
      "20000 [-0.64211434 -0.81527539  1.11591418  1.72610602] 0.4993972890219247\n",
      "Скорость обучения:0.0001\n",
      "200 [ 0.48896219 -0.16184918  0.64728128  1.51155738] 1.1828456288538924\n",
      "400 [ 0.4812976  -0.18527698  0.64683669  1.50020462] 1.1460086359433084\n",
      "600 [ 0.47372426 -0.20852799  0.6463577   1.48898028] 1.109796908143704\n",
      "800 [ 0.46624642 -0.23157833  0.64584825  1.47789438] 1.074274212586137\n",
      "1000 [ 0.45886878 -0.25439917  0.64531344  1.46695851] 1.0395158244739489\n",
      "1200 [ 0.45159659 -0.27695578  0.64475974  1.45618601] 1.005609995925066\n",
      "1400 [ 0.44443564 -0.29920675  0.64419521  1.44559225] 0.9726589799275172\n",
      "1600 [ 0.43739236 -0.3211033   0.64362965  1.43519476] 0.9407791800636417\n",
      "1800 [ 0.43047377 -0.34258892  0.64307471  1.42501329] 0.9100998786808706\n",
      "2000 [ 0.4236874  -0.36359967  0.6425439   1.41506965] 0.8807599507543653\n",
      "2200 [ 0.41704116 -0.3840653   0.64205229  1.40538729] 0.8529020838774903\n",
      "2400 [ 0.41054306 -0.40391142  0.64161618  1.39599058] 0.8266643819688968\n",
      "2600 [ 0.40420081 -0.42306273  0.64125238  1.38690375] 0.8021698555818899\n",
      "2800 [ 0.3980214  -0.44144727  0.6409773   1.37814952] 0.7795150826632364\n",
      "3000 [ 0.39201058 -0.45900098  0.64080604  1.36974771] 0.758759980653503\n",
      "3200 [ 0.38617246 -0.47567211  0.64075137  1.36171381] 0.7399208059443263\n",
      "3400 [ 0.38050917 -0.49142459  0.64082301  1.35405805] 0.7229679645041895\n",
      "3600 [ 0.37502071 -0.5062398   0.6410272   1.34678481] 0.7078290856961498\n",
      "3800 [ 0.36970504 -0.52011665  0.64136663  1.33989272] 0.6943965205275067\n",
      "4000 [ 0.36455825 -0.53307004  0.64184068  1.33337513] 0.6825375010766789\n",
      "4200 [ 0.35957493 -0.54512819  0.64244597  1.32722105] 0.6721049392971937\n",
      "4400 [ 0.35474856 -0.55632947  0.64317694  1.32141615] 0.6629471967519821\n",
      "4600 [ 0.35007184 -0.56671914  0.64402654  1.31594382] 0.6549158297546818\n",
      "4800 [ 0.3455371  -0.57634644  0.64498678  1.31078617] 0.6478709915499907\n",
      "5000 [ 0.34113653 -0.58526221  0.64604926  1.30592474] 0.6416846622934699\n",
      "5200 [ 0.33686239 -0.59351705  0.64720548  1.30134111] 0.6362421322502982\n",
      "5400 [ 0.33270718 -0.60116004  0.64844718  1.29701738] 0.6314422299495784\n",
      "5600 [ 0.32866375 -0.60823792  0.64976646  1.29293638] 0.627196740333307\n",
      "5800 [ 0.32472531 -0.61479454  0.65115592  1.28908191] 0.6234293633629365\n",
      "6000 [ 0.32088549 -0.6208707   0.65260867  1.28543874] 0.6200744628368994\n",
      "6200 [ 0.31713835 -0.62650405  0.65411841  1.28199273] 0.6170757688171178\n",
      "6400 [ 0.31347835 -0.63172921  0.65567936  1.27873072] 0.614385131474342\n",
      "6600 [ 0.30990037 -0.63657786  0.65728626  1.27564057] 0.6119613783784887\n",
      "6800 [ 0.30639963 -0.64107898  0.65893435  1.27271105] 0.6097692974347053\n",
      "7000 [ 0.30297172 -0.64525903  0.66061929  1.26993179] 0.6077787494981906\n",
      "7200 [ 0.29961255 -0.64914216  0.66233718  1.26729325] 0.6059639044850506\n",
      "7400 [ 0.29631832 -0.65275043  0.66408448  1.2647866 ] 0.6043025897121301\n",
      "7600 [ 0.29308551 -0.656104    0.66585797  1.26240368] 0.6027757372566984\n",
      "7800 [ 0.28991084 -0.6592213   0.66765474  1.26013697] 0.6013669169987614\n",
      "8000 [ 0.28679129 -0.66211922  0.66947217  1.2579795 ] 0.600061942845909\n",
      "8200 [ 0.28372402 -0.66481322  0.67130785  1.2559248 ] 0.5988485409228375\n",
      "8400 [ 0.2807064  -0.66731752  0.67315961  1.2539669 ] 0.5977160699303783\n",
      "8600 [ 0.27773597 -0.66964518  0.67502547  1.25210023] 0.596655285273829\n",
      "8800 [ 0.27481043 -0.67180824  0.67690362  1.25031962] 0.5956581398430768\n",
      "9000 [ 0.27192766 -0.67381777  0.67879241  1.24862026] 0.5947176154622895\n"
     ]
    },
    {
     "name": "stdout",
     "output_type": "stream",
     "text": [
      "9200 [ 0.26908563 -0.67568402  0.68069034  1.24699767] 0.593827580007551\n",
      "9400 [ 0.26628249 -0.67741647  0.68259603  1.24544767] 0.5929826660242676\n",
      "9600 [ 0.26351645 -0.67902387  0.6845082   1.24396635] 0.5921781673769119\n",
      "9800 [ 0.26078589 -0.68051436  0.68642571  1.24255006] 0.5914099510484931\n",
      "10000 [ 0.25808924 -0.68189547  0.68834749  1.2411954 ] 0.5906743816929662\n",
      "10200 [ 0.25542505 -0.68317423  0.69027255  1.23989916] 0.5899682569461178\n",
      "10400 [ 0.25279195 -0.68435715  0.6922      1.23865835] 0.589288751833154\n",
      "10600 [ 0.25018866 -0.68545031  0.694129    1.23747015] 0.5886333708861267\n",
      "10800 [ 0.24761396 -0.68645937  0.69605878  1.23633193] 0.5879999068115593\n",
      "11000 [ 0.2450667  -0.68738962  0.69798863  1.2352412 ] 0.5873864047365669\n",
      "11200 [ 0.24254582 -0.688246    0.69991791  1.23419565] 0.5867911312174114\n",
      "11400 [ 0.24005029 -0.68903312  0.70184599  1.23319308] 0.5862125473235315\n",
      "11600 [ 0.23757915 -0.6897553   0.70377233  1.23223142] 0.5856492852173543\n",
      "11800 [ 0.2351315  -0.69041658  0.7056964   1.23130873] 0.5851001277395165\n",
      "12000 [ 0.23270648 -0.69102075  0.70761772  1.2304232 ] 0.5845639905836626\n",
      "12200 [ 0.23030328 -0.69157136  0.70953585  1.22957308] 0.5840399067073216\n",
      "12400 [ 0.22792113 -0.69207174  0.71145036  1.22875676] 0.5835270126776316\n",
      "12600 [ 0.22555931 -0.69252502  0.71336088  1.22797271] 0.5830245366945986\n",
      "12800 [ 0.22321714 -0.69293413  0.71526706  1.22721948] 0.5825317880715843\n",
      "13000 [ 0.22089396 -0.69330183  0.71716855  1.22649569] 0.5820481479839613\n",
      "13200 [ 0.21858916 -0.69363071  0.71906506  1.22580007] 0.5815730613233342\n",
      "13400 [ 0.21630215 -0.69392321  0.72095629  1.22513139] 0.5811060295171679\n",
      "13600 [ 0.21403239 -0.69418162  0.722842    1.2244885 ] 0.5806466041927772\n",
      "13800 [ 0.21177935 -0.69440809  0.72472192  1.22387032] 0.5801943815808992\n",
      "14000 [ 0.20954252 -0.69460467  0.72659585  1.22327581] 0.5797489975680055\n",
      "14200 [ 0.20732145 -0.69477326  0.72846355  1.222704  ] 0.5793101233184218\n",
      "14400 [ 0.20511568 -0.69491565  0.73032485  1.22215398] 0.5788774613975641\n",
      "14600 [ 0.20292478 -0.69503356  0.73217957  1.22162486] 0.5784507423364019\n",
      "14800 [ 0.20074836 -0.69512856  0.73402752  1.22111583] 0.5780297215848587\n",
      "15000 [ 0.19858602 -0.69520217  0.73586857  1.22062612] 0.5776141768084071\n",
      "15200 [ 0.19643741 -0.69525581  0.73770257  1.22015496] 0.5772039054878026\n",
      "15400 [ 0.19430217 -0.69529081  0.73952939  1.21970168] 0.5767987227868165\n",
      "15600 [ 0.19217997 -0.69530844  0.74134891  1.21926561] 0.5763984596571086\n",
      "15800 [ 0.19007051 -0.69530987  0.74316102  1.21884611] 0.5760029611530991\n",
      "16000 [ 0.18797348 -0.69529624  0.74496562  1.2184426 ] 0.5756120849329475\n",
      "16200 [ 0.1858886  -0.69526859  0.74676262  1.21805452] 0.5752256999245741\n",
      "16400 [ 0.18381559 -0.69522792  0.74855193  1.21768132] 0.5748436851381439\n",
      "16600 [ 0.1817542  -0.69517518  0.75033348  1.2173225 ] 0.5744659286085924\n",
      "16800 [ 0.17970417 -0.69511124  0.75210719  1.21697759] 0.5740923264536872\n",
      "17000 [ 0.17766529 -0.69503694  0.753873    1.21664612] 0.5737227820347809\n",
      "17200 [ 0.17563732 -0.69495306  0.75563086  1.21632766] 0.5733572052088813\n",
      "17400 [ 0.17362004 -0.69486036  0.75738072  1.21602181] 0.5729955116619656\n",
      "17600 [ 0.17161326 -0.69475952  0.75912254  1.21572818] 0.5726376223145933\n",
      "17800 [ 0.16961677 -0.6946512   0.76085626  1.2154464 ] 0.5722834627918879\n",
      "18000 [ 0.1676304  -0.69453603  0.76258186  1.21517611] 0.5719329629508427\n",
      "18200 [ 0.16565396 -0.6944146   0.76429931  1.21491699] 0.5715860564586858\n",
      "18400 [ 0.16368728 -0.69428744  0.76600858  1.21466872] 0.5712426804167448\n",
      "18600 [ 0.1617302  -0.69415509  0.76770965  1.214431  ] 0.5709027750248576\n",
      "18800 [ 0.15978257 -0.69401803  0.7694025   1.21420354] 0.570566283281925\n",
      "19000 [ 0.15784423 -0.69387672  0.77108713  1.21398607] 0.5702331507186831\n",
      "19200 [ 0.15591504 -0.6937316   0.77276351  1.21377834] 0.5699033251592049\n",
      "19400 [ 0.15399486 -0.69358307  0.77443164  1.2135801 ] 0.569576756508021\n",
      "19600 [ 0.15208356 -0.69343152  0.77609152  1.21339112] 0.5692533965600836\n",
      "19800 [ 0.15018102 -0.69327731  0.77774315  1.21321118] 0.5689331988311078\n",
      "20000 [ 0.14828711 -0.69312078  0.77938652  1.21304006] 0.5686161184060843\n",
      "Скорость обучения:1e-05\n",
      "200 [ 0.49593515 -0.14062934  0.64764955  1.52187747] 1.2163195678481373\n",
      "400 [ 0.49515698 -0.14299295  0.64761017  1.52072621] 1.2125599674123246\n",
      "600 [ 0.49437966 -0.14535513  0.6475704   1.51957609] 1.208805706938263\n",
      "800 [ 0.49360319 -0.14771586  0.64753024  1.51842711] 1.205056830000618\n",
      "1000 [ 0.49282757 -0.15007512  0.64748969  1.51727928] 1.201313380901165\n",
      "1200 [ 0.49205281 -0.1524329   0.64744875  1.51613261] 1.1975754046829497\n",
      "1400 [ 0.4912789  -0.15478918  0.64740743  1.5149871 ] 1.1938429471446637\n",
      "1600 [ 0.49050586 -0.15714394  0.64736573  1.51384276] 1.1901160548551546\n",
      "1800 [ 0.48973368 -0.15949717  0.64732365  1.51269961] 1.1863947751681434\n",
      "2000 [ 0.48896238 -0.16184885  0.6472812   1.51155764] 1.1826791562370944\n",
      "2200 [ 0.48819195 -0.16419896  0.64723837  1.51041687] 1.1789692470302673\n",
      "2400 [ 0.48742239 -0.16654748  0.64719517  1.5092773 ] 1.1752650973459091\n",
      "2600 [ 0.48665372 -0.1688944   0.6471516   1.50813895] 1.1715667578276188\n",
      "2800 [ 0.48588593 -0.17123969  0.64710766  1.50700182] 1.1678742799798392\n",
      "3000 [ 0.48511903 -0.17358335  0.64706336  1.50586591] 1.1641877161835195\n",
      "3200 [ 0.48435302 -0.17592534  0.6470187   1.50473125] 1.1605071197118697\n",
      "3400 [ 0.48358791 -0.17826565  0.64697369  1.50359783] 1.1568325447462826\n",
      "3600 [ 0.4828237  -0.18060425  0.64692831  1.50246567] 1.1531640463923285\n",
      "3800 [ 0.48206039 -0.18294114  0.64688259  1.50133477] 1.1495016806958938\n",
      "4000 [ 0.48129799 -0.18527628  0.64683652  1.50020515] 1.1458455046593934\n",
      "4200 [ 0.4805365  -0.18760965  0.64679011  1.49907681] 1.1421955762580611\n",
      "4400 [ 0.47977593 -0.18994124  0.64674335  1.49794977] 1.138551954456331\n",
      "4600 [ 0.47901628 -0.19227102  0.64669626  1.49682402] 1.1349146992242727\n",
      "4800 [ 0.47825756 -0.19459897  0.64664883  1.49569959] 1.1312838715540605\n",
      "5000 [ 0.47749976 -0.19692507  0.64660107  1.49457648] 1.1276595334764838\n",
      "5200 [ 0.4767429  -0.19924928  0.64655298  1.4934547 ] 1.1240417480774718\n",
      "5400 [ 0.47598697 -0.20157159  0.64650458  1.49233426] 1.1204305795146219\n",
      "5600 [ 0.47523198 -0.20389198  0.64645585  1.49121518] 1.1168260930337026\n",
      "5800 [ 0.47447794 -0.20621042  0.64640681  1.49009746] 1.11322835498512\n",
      "6000 [ 0.47372485 -0.20852687  0.64635746  1.4889811 ] 1.1096374328403413\n",
      "6200 [ 0.47297272 -0.21084133  0.64630781  1.48786614] 1.1060533952082325\n",
      "6400 [ 0.47222154 -0.21315375  0.64625785  1.48675256] 1.1024763118512921\n",
      "6600 [ 0.47147133 -0.21546412  0.6462076   1.4856404 ] 1.0989062537017906\n",
      "6800 [ 0.47072209 -0.21777241  0.64615706  1.48452965] 1.0953432928777371\n",
      "7000 [ 0.46997382 -0.22007858  0.64610623  1.48342032] 1.0917875026986998\n",
      "7200 [ 0.46922652 -0.22238261  0.64605511  1.48231244] 1.0882389577014226\n",
      "7400 [ 0.46848021 -0.22468447  0.64600373  1.481206  ] 1.0846977336552173\n",
      "7600 [ 0.46773489 -0.22698414  0.64595207  1.48010103] 1.0811639075771151\n",
      "7800 [ 0.46699056 -0.22928157  0.64590014  1.47899753] 1.077637557746733\n",
      "8000 [ 0.46624722 -0.23157675  0.64584795  1.47789552] 1.0741187637208267\n",
      "8200 [ 0.46550489 -0.23386964  0.64579551  1.47679501] 1.0706076063475065\n",
      "8400 [ 0.46476356 -0.2361602   0.64574282  1.47569601] 1.067104167780062\n",
      "8600 [ 0.46402325 -0.23844841  0.64568989  1.47459854] 1.0636085314903958\n",
      "8800 [ 0.46328395 -0.24073422  0.64563672  1.4735026 ] 1.0601207822819818\n",
      "9000 [ 0.46254567 -0.24301762  0.64558332  1.47240821] 1.0566410063023568\n",
      "9200 [ 0.46180843 -0.24529856  0.6455297   1.47131538] 1.053169291055068\n",
      "9400 [ 0.46107221 -0.24757701  0.64547586  1.47022413] 1.049705725411071\n",
      "9600 [ 0.46033703 -0.24985293  0.64542181  1.46913448] 1.0462503996194896\n",
      "9800 [ 0.4596029  -0.25212629  0.64536755  1.46804642] 1.0428034053177515\n",
      "10000 [ 0.45886981 -0.25439705  0.6453131   1.46695998] 1.039364835541002\n",
      "10200 [ 0.45813778 -0.25666518  0.64525845  1.46587518] 1.0359347847307738\n",
      "10400 [ 0.4574068  -0.25893062  0.64520363  1.46479202] 1.0325133487428735\n",
      "10600 [ 0.4566769  -0.26119335  0.64514862  1.46371053] 1.0291006248544068\n",
      "10800 [ 0.45594806 -0.26345333  0.64509345  1.46263071] 1.0256967117699258\n",
      "11000 [ 0.4552203  -0.26571052  0.64503813  1.46155258] 1.022301709626609\n",
      "11200 [ 0.45449362 -0.26796486  0.64498264  1.46047616] 1.0189157199984558\n",
      "11400 [ 0.45376803 -0.27021634  0.64492702  1.45940146] 1.0155388458994177\n",
      "11600 [ 0.45304353 -0.27246489  0.64487126  1.45832849] 1.0121711917854141\n",
      "11800 [ 0.45232014 -0.27471048  0.64481537  1.45725729] 1.0088128635551876\n",
      "12000 [ 0.45159785 -0.27695306  0.64475936  1.45618785] 1.0054639685499214\n",
      "12200 [ 0.45087667 -0.27919259  0.64470325  1.45512019] 1.002124615551577\n",
      "12400 [ 0.45015661 -0.28142903  0.64464703  1.45405434] 0.9987949147798754\n",
      "12600 [ 0.44943767 -0.28366232  0.64459073  1.45299031] 0.9954749778878857\n",
      "12800 [ 0.44871987 -0.28589242  0.64453434  1.45192811] 0.9921649179561204\n",
      "13000 [ 0.4480032  -0.28811929  0.64447787  1.45086777] 0.988864849485115\n",
      "13200 [ 0.44728767 -0.29034287  0.64442135  1.4498093 ] 0.9855748883864063\n",
      "13400 [ 0.4465733  -0.29256312  0.64436477  1.44875272] 0.9822951519718497\n",
      "13600 [ 0.44586008 -0.29477998  0.64430815  1.44769804] 0.979025758941215\n",
      "13800 [ 0.44514802 -0.2969934   0.6442515   1.44664529] 0.9757668293679881\n",
      "14000 [ 0.44443714 -0.29920334  0.64419482  1.44559448] 0.9725184846833388\n"
     ]
    },
    {
     "name": "stdout",
     "output_type": "stream",
     "text": [
      "14200 [ 0.44372743 -0.30140975  0.64413813  1.44454563] 0.9692808476581496\n",
      "14400 [ 0.4430189  -0.30361255  0.64408144  1.44349876] 0.9660540423830886\n",
      "14600 [ 0.44231157 -0.30581172  0.64402477  1.44245389] 0.9628381942466302\n",
      "14800 [ 0.44160543 -0.30800718  0.64396811  1.44141104] 0.9596334299109781\n",
      "15000 [ 0.44090049 -0.31019889  0.64391148  1.44037022] 0.9564398772858287\n",
      "15200 [ 0.44019676 -0.31238679  0.64385491  1.43933147] 0.9532576654998998\n",
      "15400 [ 0.43949425 -0.31457081  0.64379838  1.43829479] 0.9500869248701986\n",
      "15600 [ 0.43879297 -0.31675091  0.64374193  1.43726021] 0.9469277868689335\n",
      "15800 [ 0.43809292 -0.31892703  0.64368555  1.43622774] 0.9437803840880559\n",
      "16000 [ 0.43739411 -0.3210991   0.64362927  1.43519741] 0.9406448502013415\n",
      "16200 [ 0.43669654 -0.32326707  0.64357309  1.43416925] 0.9375213199239939\n",
      "16400 [ 0.43600023 -0.32543087  0.64351703  1.43314326] 0.9344099289696983\n",
      "16600 [ 0.43530518 -0.32759045  0.6434611   1.43211947] 0.9313108140051044\n",
      "16800 [ 0.4346114  -0.32974574  0.64340532  1.43109791] 0.9282241126016813\n",
      "17000 [ 0.43391889 -0.33189667  0.64334969  1.43007858] 0.9251499631849189\n",
      "17200 [ 0.43322767 -0.33404319  0.64329423  1.42906153] 0.9220885049808313\n",
      "17400 [ 0.43253774 -0.33618524  0.64323896  1.42804676] 0.9190398779597564\n",
      "17600 [ 0.43184911 -0.33832273  0.64318388  1.4270343 ] 0.9160042227773959\n",
      "17800 [ 0.43116178 -0.34045562  0.64312901  1.42602417] 0.9129816807131194\n",
      "18000 [ 0.43047577 -0.34258383  0.64307437  1.4250164 ] 0.9099723936054736\n",
      "18200 [ 0.42979108 -0.34470729  0.64301998  1.42401101] 0.9069765037849316\n",
      "18400 [ 0.42910772 -0.34682594  0.64296583  1.42300801] 0.90399415400385\n",
      "18600 [ 0.4284257  -0.34893971  0.64291195  1.42200744] 0.9010254873636556\n",
      "18800 [ 0.42774502 -0.35104853  0.64285836  1.42100931] 0.8980706472392738\n",
      "19000 [ 0.4270657  -0.35315233  0.64280507  1.42001366] 0.8951297772008007\n",
      "19200 [ 0.42638774 -0.35525105  0.64275209  1.4190205 ] 0.8922030209324703\n",
      "19400 [ 0.42571115 -0.3573446   0.64269944  1.41802985] 0.8892905221489282\n",
      "19600 [ 0.42503593 -0.35943292  0.64264714  1.41704174] 0.8863924245088644\n",
      "19800 [ 0.4243621  -0.36151593  0.64259519  1.4160562 ] 0.8835088715260454\n",
      "20000 [ 0.42368967 -0.36359357  0.64254362  1.41507325] 0.8806400064778185\n"
     ]
    }
   ],
   "source": [
    "log_loss_minimized(eval_model,X_st,y)"
   ]
  },
  {
   "cell_type": "markdown",
   "metadata": {},
   "source": [
    "Log_loss минимальный при скорости обучения 1е-2"
   ]
  },
  {
   "cell_type": "code",
   "execution_count": 53,
   "metadata": {},
   "outputs": [],
   "source": [
    "def calc_pred_proba(w,x):\n",
    "    \n",
    "    y_pred_proba=sigmoid(np.dot(x.T,w))\n",
    "    return y_pred_proba\n",
    "    "
   ]
  },
  {
   "cell_type": "code",
   "execution_count": 58,
   "metadata": {},
   "outputs": [
    {
     "name": "stdout",
     "output_type": "stream",
     "text": [
      "2000 [-0.64214517 -0.81531815  1.11599369  1.72618787] 0.4994117173889703\n",
      "4000 [-1.25395556 -0.91702026  1.05407927  2.24381099] 0.4663484120925518\n",
      "6000 [-1.80709894 -0.96248191  0.90882535  2.64121123] 0.4419377780140083\n",
      "8000 [-2.31061284 -0.98407392  0.73840308  2.97395036] 0.422228649670574\n",
      "10000 [-2.77079473 -0.99580928  0.56650766  3.2676589 ] 0.405830538777331\n",
      "12000 [-3.1930393  -1.00395089  0.4027675   3.53513264] 0.391986451158745\n",
      "14000 [-3.58213405 -1.01124986  0.25049437  3.78323688] 0.38017043217510194\n"
     ]
    },
    {
     "data": {
      "text/plain": [
       "array([0.25837324, 0.27275949, 0.87259994, 0.26550415, 0.76267207,\n",
       "       0.51778979, 0.95509356, 0.1378597 , 0.25485493, 0.88250437])"
      ]
     },
     "execution_count": 58,
     "metadata": {},
     "output_type": "execute_result"
    }
   ],
   "source": [
    "calc_pred_proba(eval_model(X_st, y, iterations=15000, alpha=1e-2),X_st)"
   ]
  },
  {
   "cell_type": "code",
   "execution_count": 61,
   "metadata": {},
   "outputs": [],
   "source": [
    "def calc_pred(w,x):\n",
    "    \n",
    "    y_pred_proba=sigmoid(np.dot(x.T,w))\n",
    "    y_pred=[1 if 1-i<0.5 else 0 for i in y_pred_proba]\n",
    "    return y_pred"
   ]
  },
  {
   "cell_type": "code",
   "execution_count": 84,
   "metadata": {},
   "outputs": [
    {
     "name": "stdout",
     "output_type": "stream",
     "text": [
      "2000 [-0.64214517 -0.81531815  1.11599369  1.72618787] 0.4994117173889703\n",
      "4000 [-1.25395556 -0.91702026  1.05407927  2.24381099] 0.4663484120925518\n",
      "6000 [-1.80709894 -0.96248191  0.90882535  2.64121123] 0.4419377780140083\n",
      "8000 [-2.31061284 -0.98407392  0.73840308  2.97395036] 0.422228649670574\n",
      "10000 [-2.77079473 -0.99580928  0.56650766  3.2676589 ] 0.405830538777331\n",
      "12000 [-3.1930393  -1.00395089  0.4027675   3.53513264] 0.391986451158745\n",
      "14000 [-3.58213405 -1.01124986  0.25049437  3.78323688] 0.38017043217510194\n",
      "16000 [-3.94231774 -1.01882634  0.11016039  4.01595445] 0.3699834335313109\n",
      "18000 [-4.27730123 -1.02705405 -0.01895896  4.23581413] 0.3611150348100095\n",
      "20000 [-4.59029892 -1.03598171 -0.13800874  4.44457898] 0.35332194770044845\n",
      "22000 [-4.8840745  -1.04553097 -0.24820145  4.64358332] 0.3464126408100555\n",
      "24000 [-5.16099402 -1.05558614 -0.35066914  4.83390067] 0.3402355619384207\n",
      "26000 [-5.42307982 -1.0660321  -0.44641265  5.01643007] 0.33467005859344073\n",
      "28000 [-5.67206106 -1.07676828 -0.53629442  5.19194294] 0.3296194172238266\n",
      "30000 [-5.90941861 -1.08771192 -0.62104909  5.36111049] 0.32500554895978223\n",
      "32000 [-6.13642404 -1.09879707 -0.70129997  5.52452153] 0.32076493552985397\n",
      "34000 [-6.3541726  -1.10997213 -0.77757601  5.6826951 ] 0.3168455301522854\n",
      "36000 [-6.56361095 -1.12119711 -0.85032723  5.8360903 ] 0.31320437893657593\n",
      "38000 [-6.76556032 -1.13244127 -0.91993789  5.98511423] 0.309805785690661\n",
      "40000 [-6.96073579 -1.14368109 -0.98673759  6.13012867] 0.3066198875027495\n",
      "42000 [-7.14976228 -1.15489865 -1.05101032  6.27145584] 0.3036215420820482\n",
      "44000 [-7.33318792 -1.16608037 -1.11300192  6.4093833 ] 0.30078945290902487\n",
      "46000 [-7.51149521 -1.17721603 -1.17292618  6.54416825] 0.298105476821483\n",
      "48000 [-7.68511029 -1.18829801 -1.2309698   6.67604118] 0.29555407240465403\n",
      "50000 [-7.85441079 -1.19932069 -1.28729658  6.80520914] 0.293121857730925\n",
      "52000 [-8.01973242 -1.21028003 -1.34205072  6.93185846] 0.2907972535543467\n",
      "54000 [-8.18137452 -1.22117319 -1.39535973  7.05615724] 0.28857019370296866\n",
      "56000 [-8.33960478 -1.23199825 -1.44733668  7.17825739] 0.2864318886370266\n",
      "58000 [-8.49466328 -1.24275405 -1.49808227  7.29829654] 0.28437463132382224\n",
      "60000 [-8.64676587 -1.25343997 -1.54768639  7.41639955] 0.2823916369910949\n",
      "62000 [-8.79610715 -1.26405583 -1.59622958  7.53268002] 0.280476910157321\n",
      "64000 [-8.94286298 -1.27460178 -1.6437842   7.64724141] 0.27862513374447556\n",
      "66000 [-9.08719265 -1.28507824 -1.69041543  7.76017818] 0.2768315761629611\n",
      "68000 [-9.2292408  -1.29548578 -1.73618213  7.87157671] 0.27509201309843934\n",
      "70000 [-9.369139   -1.30582517 -1.78113764  7.98151615] 0.2734026613848012\n"
     ]
    }
   ],
   "source": [
    "y_pred=calc_pred(eval_model(X_st, y, iterations=70000, alpha=1e-2),X_st)"
   ]
  },
  {
   "cell_type": "code",
   "execution_count": 85,
   "metadata": {},
   "outputs": [
    {
     "data": {
      "text/plain": [
       "0.9"
      ]
     },
     "execution_count": 85,
     "metadata": {},
     "output_type": "execute_result"
    }
   ],
   "source": [
    "def accuracy(y,y_pred):\n",
    "    true_answer=0\n",
    "    for i in range(len(y)):\n",
    "        if y[i]==y_pred[i]:\n",
    "            true_answer+=1\n",
    "    return true_answer/len(y)\n",
    "accuracy(y,y_pred)"
   ]
  },
  {
   "cell_type": "code",
   "execution_count": 86,
   "metadata": {},
   "outputs": [
    {
     "data": {
      "text/plain": [
       "array([0., 0., 1., 0., 1., 0., 1., 0., 1., 1.])"
      ]
     },
     "execution_count": 86,
     "metadata": {},
     "output_type": "execute_result"
    }
   ],
   "source": [
    "y"
   ]
  },
  {
   "cell_type": "code",
   "execution_count": 87,
   "metadata": {},
   "outputs": [
    {
     "data": {
      "text/plain": [
       "[0, 0, 1, 0, 1, 0, 1, 0, 0, 1]"
      ]
     },
     "execution_count": 87,
     "metadata": {},
     "output_type": "execute_result"
    }
   ],
   "source": [
    "y_pred"
   ]
  },
  {
   "cell_type": "code",
   "execution_count": 88,
   "metadata": {},
   "outputs": [
    {
     "data": {
      "text/plain": [
       "array([4., 0., 1., 5.])"
      ]
     },
     "execution_count": 88,
     "metadata": {},
     "output_type": "execute_result"
    }
   ],
   "source": [
    "def error_matrix(y,y_pred):\n",
    "    e_m=np.zeros(4)\n",
    "    for i in range(len(y)):\n",
    "        if y[i]==1 and y_pred[i]==1:\n",
    "            e_m[0]+=1\n",
    "        elif y[i]==0 and y_pred[i]==1:\n",
    "            e_m[1]+=1\n",
    "        elif y[i]==1 and y_pred[i]==0:\n",
    "            e_m[2]+=1\n",
    "        elif y[i]==0 and y_pred[i]==0:\n",
    "            e_m[3]+=1\n",
    "        \n",
    "    return e_m\n",
    "e_m=error_matrix(y,y_pred)\n",
    "e_m"
   ]
  },
  {
   "cell_type": "code",
   "execution_count": 89,
   "metadata": {},
   "outputs": [
    {
     "data": {
      "text/plain": [
       "(1.0, 0.8)"
      ]
     },
     "execution_count": 89,
     "metadata": {},
     "output_type": "execute_result"
    }
   ],
   "source": [
    "def metrics(e_m):\n",
    "    precision=e_m[0]/(e_m[0]+e_m[1])\n",
    "    recall=e_m[0]/(e_m[0]+e_m[2])\n",
    "    return precision,recall\n",
    "metrics(e_m)"
   ]
  },
  {
   "cell_type": "markdown",
   "metadata": {},
   "source": []
  },
  {
   "cell_type": "markdown",
   "metadata": {},
   "source": [
    "C увеличением количества итераций обучения модель начинает сокращать ошибку и увеличивать кол-во правильных ответов, скорее всего имеет место переобучение, модель просто подстраивается под правильные ответы. Проверить это не представляется возможным, так как нет тестовой и обучающей выборки. "
   ]
  }
 ],
 "metadata": {
  "colab": {
   "collapsed_sections": [],
   "name": "Lesson3_.ipynb",
   "provenance": []
  },
  "kernelspec": {
   "display_name": "Python 3",
   "language": "python",
   "name": "python3"
  },
  "language_info": {
   "codemirror_mode": {
    "name": "ipython",
    "version": 3
   },
   "file_extension": ".py",
   "mimetype": "text/x-python",
   "name": "python",
   "nbconvert_exporter": "python",
   "pygments_lexer": "ipython3",
   "version": "3.7.4"
  }
 },
 "nbformat": 4,
 "nbformat_minor": 1
}
